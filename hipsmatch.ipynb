{
 "cells": [
  {
   "cell_type": "markdown",
   "id": "9145ca10-974c-410d-9280-b11af51b40b0",
   "metadata": {},
   "source": [
    "==================================================================\n",
    "\n",
    "**Example code to read two catalogs (Demp HSC photoz and QUAIA) from two fits files,\n",
    "converting them to Hipscat, reading back with LSDB and crossmatching by position. Then we explore the matches to check their photozs, etc, etc.**\n",
    "\n",
    "=================================================================="
   ]
  },
  {
   "cell_type": "code",
   "execution_count": 1,
   "id": "7b7e2899-d99d-4a1f-90db-3eed3645b4d9",
   "metadata": {},
   "outputs": [],
   "source": [
    "import numpy as np\n",
    "from hipscat_import.catalog.arguments import ImportArguments\n",
    "from dask.distributed import Client\n",
    "from hipscat_import.pipeline import pipeline_with_client\n",
    "from hipscat_import.catalog.file_readers import FitsReader\n",
    "from pathlib import Path\n",
    "import lsdb\n",
    "from astropy.table import Table\n",
    "import matplotlib.pyplot as plt"
   ]
  },
  {
   "cell_type": "markdown",
   "id": "41c6b7db-1a43-4e33-b8fb-5695f22c14d4",
   "metadata": {
    "tags": []
   },
   "source": [
    "## Hipscatting HSC_PhotoZ Catalog"
   ]
  },
  {
   "cell_type": "code",
   "execution_count": 2,
   "id": "76cdd7dd-0bbc-4f19-b70c-dd522740deb9",
   "metadata": {},
   "outputs": [],
   "source": [
    "RA_COLUMN = \"ra\"\n",
    "DEC_COLUMN = \"dec\"\n",
    "# single fits file here, but keep it as a list in case there are multiple files\n",
    "input_file_list = sorted(Path(\"/ocean/projects/phy210048p/shared/hscpz/demp_point/\").glob('demp_merged.fits'))"
   ]
  },
  {
   "cell_type": "code",
   "execution_count": 3,
   "id": "f1e00eaf-116e-4993-8b36-76a7e842d41a",
   "metadata": {
    "tags": []
   },
   "outputs": [
    {
     "data": {
      "application/vnd.jupyter.widget-view+json": {
       "model_id": "0717ae7ca66f44e4aed62dd1697edfde",
       "version_major": 2,
       "version_minor": 0
      },
      "text/plain": [
       "Planning  :   0%|          | 0/5 [00:00<?, ?it/s]"
      ]
     },
     "metadata": {},
     "output_type": "display_data"
    }
   ],
   "source": [
    "args = ImportArguments(\n",
    "    ra_column=RA_COLUMN,\n",
    "    dec_column=DEC_COLUMN,\n",
    "    input_file_list=input_file_list,\n",
    "    file_reader=FitsReader(),\n",
    "    output_artifact_name=\"demp\",\n",
    "    output_path=\"/ocean/projects/phy210048p/shared/hscpz_quaia_cross\",\n",
    "    resume=False,\n",
    ")"
   ]
  },
  {
   "cell_type": "code",
   "execution_count": 4,
   "id": "889e87dd-85f4-4f5d-a18c-1f2bb58e7adb",
   "metadata": {},
   "outputs": [
    {
     "data": {
      "application/vnd.jupyter.widget-view+json": {
       "model_id": "140ebeef3ed74047a19727a8917cf1b7",
       "version_major": 2,
       "version_minor": 0
      },
      "text/plain": [
       "Mapping   :   0%|          | 0/1 [00:00<?, ?it/s]"
      ]
     },
     "metadata": {},
     "output_type": "display_data"
    },
    {
     "data": {
      "application/vnd.jupyter.widget-view+json": {
       "model_id": "18457b25f7ae44968ab10e57245ed2f4",
       "version_major": 2,
       "version_minor": 0
      },
      "text/plain": [
       "Binning   :   0%|          | 0/2 [00:00<?, ?it/s]"
      ]
     },
     "metadata": {},
     "output_type": "display_data"
    },
    {
     "data": {
      "application/vnd.jupyter.widget-view+json": {
       "model_id": "276c1d9b8078444aaceebc4fb44e429a",
       "version_major": 2,
       "version_minor": 0
      },
      "text/plain": [
       "Splitting :   0%|          | 0/1 [00:00<?, ?it/s]"
      ]
     },
     "metadata": {},
     "output_type": "display_data"
    },
    {
     "data": {
      "application/vnd.jupyter.widget-view+json": {
       "model_id": "941013ad24264a23bf482b4555006e51",
       "version_major": 2,
       "version_minor": 0
      },
      "text/plain": [
       "Reducing  :   0%|          | 0/1504 [00:00<?, ?it/s]"
      ]
     },
     "metadata": {},
     "output_type": "display_data"
    },
    {
     "data": {
      "application/vnd.jupyter.widget-view+json": {
       "model_id": "84f06f03894f44d59cc5995ea657c960",
       "version_major": 2,
       "version_minor": 0
      },
      "text/plain": [
       "Finishing :   0%|          | 0/5 [00:00<?, ?it/s]"
      ]
     },
     "metadata": {},
     "output_type": "display_data"
    }
   ],
   "source": [
    "# As it is, takes about 45 minutes\n",
    "with Client(n_workers=4) as client:\n",
    "    pipeline_with_client(args, client)"
   ]
  },
  {
   "cell_type": "code",
   "execution_count": 5,
   "id": "62a10e97-ae60-4929-af14-a4c237ad0c68",
   "metadata": {},
   "outputs": [
    {
     "data": {
      "text/plain": [
       "['object_id',\n",
       " 'photoz_best',\n",
       " 'photoz_conf_best',\n",
       " 'photoz_risk_best',\n",
       " 'stellar_mass',\n",
       " 'sfr',\n",
       " 'ra',\n",
       " 'dec',\n",
       " 'Norder',\n",
       " 'Dir',\n",
       " 'Npix']"
      ]
     },
     "execution_count": 5,
     "metadata": {},
     "output_type": "execute_result"
    }
   ],
   "source": [
    "list(lsdb.read_hipscat(\"/ocean/projects/phy210048p/shared/hscpz_quaia_cross/demp\").columns)"
   ]
  },
  {
   "cell_type": "markdown",
   "id": "591ff15a-4e5f-4579-bf72-4cde41461fd5",
   "metadata": {
    "tags": []
   },
   "source": [
    "## Hipscatting QUAIA"
   ]
  },
  {
   "cell_type": "code",
   "execution_count": 7,
   "id": "3df7f8dd-eb41-49d8-9ef2-7ac42453171d",
   "metadata": {},
   "outputs": [],
   "source": [
    "RA_COLUMN = \"ra\"\n",
    "DEC_COLUMN = \"dec\"\n",
    "# single fits file here, but keep it as a list in case there are multiple files\n",
    "input_file_list = sorted(Path(\"/ocean/projects/phy210048p/shared/hipscat/raw/quaia/\").glob('quaia_G20.5.fits'))"
   ]
  },
  {
   "cell_type": "code",
   "execution_count": 8,
   "id": "b4e07dce-d822-4ab0-95fe-e1d6cf9cb5bd",
   "metadata": {},
   "outputs": [
    {
     "data": {
      "application/vnd.jupyter.widget-view+json": {
       "model_id": "7ef9d77ac8f840eab7d60ece94d6d46a",
       "version_major": 2,
       "version_minor": 0
      },
      "text/plain": [
       "Planning  :   0%|          | 0/5 [00:00<?, ?it/s]"
      ]
     },
     "metadata": {},
     "output_type": "display_data"
    }
   ],
   "source": [
    "args = ImportArguments(\n",
    "    ra_column=RA_COLUMN,\n",
    "    dec_column=DEC_COLUMN,\n",
    "    input_file_list=input_file_list,\n",
    "    file_reader=FitsReader(),\n",
    "    output_artifact_name=\"quaia\",\n",
    "    output_path=\"/ocean/projects/phy210048p/shared/hscpz_quaia_cross\",\n",
    "    resume=False,\n",
    ")"
   ]
  },
  {
   "cell_type": "code",
   "execution_count": 9,
   "id": "4dd0ac53-7965-48b1-ac9d-175d4900457a",
   "metadata": {},
   "outputs": [
    {
     "data": {
      "application/vnd.jupyter.widget-view+json": {
       "model_id": "201fdfd5ad7b42e1a17a0ae3d6f87352",
       "version_major": 2,
       "version_minor": 0
      },
      "text/plain": [
       "Mapping   :   0%|          | 0/1 [00:00<?, ?it/s]"
      ]
     },
     "metadata": {},
     "output_type": "display_data"
    },
    {
     "data": {
      "application/vnd.jupyter.widget-view+json": {
       "model_id": "82166edd1c154bdd848e4f4abd57947f",
       "version_major": 2,
       "version_minor": 0
      },
      "text/plain": [
       "Binning   :   0%|          | 0/2 [00:00<?, ?it/s]"
      ]
     },
     "metadata": {},
     "output_type": "display_data"
    },
    {
     "data": {
      "application/vnd.jupyter.widget-view+json": {
       "model_id": "3339645b84cc450081727b2a3fde1d9b",
       "version_major": 2,
       "version_minor": 0
      },
      "text/plain": [
       "Splitting :   0%|          | 0/1 [00:00<?, ?it/s]"
      ]
     },
     "metadata": {},
     "output_type": "display_data"
    },
    {
     "data": {
      "application/vnd.jupyter.widget-view+json": {
       "model_id": "05753a33d9914f1b9eff705caed4ec45",
       "version_major": 2,
       "version_minor": 0
      },
      "text/plain": [
       "Reducing  :   0%|          | 0/12 [00:00<?, ?it/s]"
      ]
     },
     "metadata": {},
     "output_type": "display_data"
    },
    {
     "data": {
      "application/vnd.jupyter.widget-view+json": {
       "model_id": "208a730203504e19a11bf63f93e5284a",
       "version_major": 2,
       "version_minor": 0
      },
      "text/plain": [
       "Finishing :   0%|          | 0/5 [00:00<?, ?it/s]"
      ]
     },
     "metadata": {},
     "output_type": "display_data"
    }
   ],
   "source": [
    "with Client(n_workers=4) as client:\n",
    "    pipeline_with_client(args, client)"
   ]
  },
  {
   "cell_type": "code",
   "execution_count": 10,
   "id": "0620defe-5aa7-41c0-93d4-7e926f436acc",
   "metadata": {},
   "outputs": [
    {
     "data": {
      "text/plain": [
       "['source_id',\n",
       " 'unwise_objid',\n",
       " 'redshift_quaia',\n",
       " 'redshift_quaia_err',\n",
       " 'ra',\n",
       " 'dec',\n",
       " 'l',\n",
       " 'b',\n",
       " 'phot_g_mean_mag',\n",
       " 'phot_bp_mean_mag',\n",
       " 'phot_rp_mean_mag',\n",
       " 'mag_w1_vg',\n",
       " 'mag_w2_vg',\n",
       " 'pm',\n",
       " 'pmra',\n",
       " 'pmdec',\n",
       " 'pmra_error',\n",
       " 'pmdec_error',\n",
       " 'Norder',\n",
       " 'Dir',\n",
       " 'Npix']"
      ]
     },
     "execution_count": 10,
     "metadata": {},
     "output_type": "execute_result"
    }
   ],
   "source": [
    "list(lsdb.read_hipscat(\"/ocean/projects/phy210048p/shared/hscpz_quaia_cross/quaia\").columns)"
   ]
  },
  {
   "cell_type": "markdown",
   "id": "b6d94b0f-206c-4e34-8580-4ec60bf44418",
   "metadata": {
    "tags": []
   },
   "source": [
    "## Read hipscatted HSC_PhotoZ using LSDB"
   ]
  },
  {
   "cell_type": "code",
   "execution_count": 14,
   "id": "723ec7ec-e99c-438d-a09a-89ab0d11c0de",
   "metadata": {},
   "outputs": [],
   "source": [
    "cat = lsdb.read_hipscat(\"/ocean/projects/phy210048p/shared/hscpz_quaia_cross/demp\")"
   ]
  },
  {
   "cell_type": "markdown",
   "id": "a8c967ce-af0e-4f4c-bf97-2a129a79a2a3",
   "metadata": {
    "jp-MarkdownHeadingCollapsed": true,
    "tags": []
   },
   "source": [
    "### Example cone search"
   ]
  },
  {
   "cell_type": "code",
   "execution_count": 12,
   "id": "6e5fe5ba-dfbf-49a5-b3b6-a98e59486994",
   "metadata": {},
   "outputs": [],
   "source": [
    "qq=cat.cone_search(ra=0.0, dec=0.0, radius_arcsec=12).compute()"
   ]
  },
  {
   "cell_type": "code",
   "execution_count": 13,
   "id": "de854e7c-6dfa-4b71-8a46-525403722c03",
   "metadata": {},
   "outputs": [
    {
     "data": {
      "text/html": [
       "<div>\n",
       "<style scoped>\n",
       "    .dataframe tbody tr th:only-of-type {\n",
       "        vertical-align: middle;\n",
       "    }\n",
       "\n",
       "    .dataframe tbody tr th {\n",
       "        vertical-align: top;\n",
       "    }\n",
       "\n",
       "    .dataframe thead th {\n",
       "        text-align: right;\n",
       "    }\n",
       "</style>\n",
       "<table border=\"1\" class=\"dataframe\">\n",
       "  <thead>\n",
       "    <tr style=\"text-align: right;\">\n",
       "      <th></th>\n",
       "      <th>object_id</th>\n",
       "      <th>photoz_best</th>\n",
       "      <th>photoz_conf_best</th>\n",
       "      <th>photoz_risk_best</th>\n",
       "      <th>stellar_mass</th>\n",
       "      <th>sfr</th>\n",
       "      <th>ra</th>\n",
       "      <th>dec</th>\n",
       "      <th>Norder</th>\n",
       "      <th>Dir</th>\n",
       "      <th>Npix</th>\n",
       "    </tr>\n",
       "    <tr>\n",
       "      <th>_hipscat_index</th>\n",
       "      <th></th>\n",
       "      <th></th>\n",
       "      <th></th>\n",
       "      <th></th>\n",
       "      <th></th>\n",
       "      <th></th>\n",
       "      <th></th>\n",
       "      <th></th>\n",
       "      <th></th>\n",
       "      <th></th>\n",
       "      <th></th>\n",
       "    </tr>\n",
       "  </thead>\n",
       "  <tbody>\n",
       "    <tr>\n",
       "      <th>4899916391991214080</th>\n",
       "      <td>40576961227021774</td>\n",
       "      <td>2.87</td>\n",
       "      <td>0.138417</td>\n",
       "      <td>0.458512</td>\n",
       "      <td>9.023</td>\n",
       "      <td>0.645</td>\n",
       "      <td>0.001135</td>\n",
       "      <td>-0.002258</td>\n",
       "      <td>1</td>\n",
       "      <td>0</td>\n",
       "      <td>16</td>\n",
       "    </tr>\n",
       "    <tr>\n",
       "      <th>4899916392112848896</th>\n",
       "      <td>40576961227021776</td>\n",
       "      <td>2.24</td>\n",
       "      <td>0.056634</td>\n",
       "      <td>0.661668</td>\n",
       "      <td>10.111</td>\n",
       "      <td>0.048999</td>\n",
       "      <td>0.000833</td>\n",
       "      <td>-0.002092</td>\n",
       "      <td>1</td>\n",
       "      <td>0</td>\n",
       "      <td>16</td>\n",
       "    </tr>\n",
       "    <tr>\n",
       "      <th>4899916393027207168</th>\n",
       "      <td>40576961227002329</td>\n",
       "      <td>1.17</td>\n",
       "      <td>0.470852</td>\n",
       "      <td>0.09377</td>\n",
       "      <td>9.217</td>\n",
       "      <td>0.712</td>\n",
       "      <td>359.997874</td>\n",
       "      <td>-0.002489</td>\n",
       "      <td>1</td>\n",
       "      <td>0</td>\n",
       "      <td>16</td>\n",
       "    </tr>\n",
       "    <tr>\n",
       "      <th>4899916393400500224</th>\n",
       "      <td>40576961227002375</td>\n",
       "      <td>0.5</td>\n",
       "      <td>0.137209</td>\n",
       "      <td>0.508478</td>\n",
       "      <td>8.827</td>\n",
       "      <td>0.715</td>\n",
       "      <td>359.99847</td>\n",
       "      <td>-0.001624</td>\n",
       "      <td>1</td>\n",
       "      <td>0</td>\n",
       "      <td>16</td>\n",
       "    </tr>\n",
       "    <tr>\n",
       "      <th>4899916393622798336</th>\n",
       "      <td>40576961227021775</td>\n",
       "      <td>2.16</td>\n",
       "      <td>0.044201</td>\n",
       "      <td>0.707705</td>\n",
       "      <td>9.607</td>\n",
       "      <td>0.528</td>\n",
       "      <td>0.000356</td>\n",
       "      <td>-0.001719</td>\n",
       "      <td>1</td>\n",
       "      <td>0</td>\n",
       "      <td>16</td>\n",
       "    </tr>\n",
       "    <tr>\n",
       "      <th>4899916393647964160</th>\n",
       "      <td>40576961227002360</td>\n",
       "      <td>0.51</td>\n",
       "      <td>0.203435</td>\n",
       "      <td>0.459397</td>\n",
       "      <td>8.364</td>\n",
       "      <td>-1.138</td>\n",
       "      <td>359.999496</td>\n",
       "      <td>-0.001893</td>\n",
       "      <td>1</td>\n",
       "      <td>0</td>\n",
       "      <td>16</td>\n",
       "    </tr>\n",
       "    <tr>\n",
       "      <th>5092069979289812992</th>\n",
       "      <td>41645652169462222</td>\n",
       "      <td>1.24</td>\n",
       "      <td>0.367229</td>\n",
       "      <td>0.175684</td>\n",
       "      <td>10.193</td>\n",
       "      <td>-0.209</td>\n",
       "      <td>0.002775</td>\n",
       "      <td>0.00093</td>\n",
       "      <td>6</td>\n",
       "      <td>10000</td>\n",
       "      <td>18090</td>\n",
       "    </tr>\n",
       "    <tr>\n",
       "      <th>5476377147385839616</th>\n",
       "      <td>41645652169482272</td>\n",
       "      <td>1.19</td>\n",
       "      <td>0.200945</td>\n",
       "      <td>0.36849</td>\n",
       "      <td>8.588</td>\n",
       "      <td>1.05</td>\n",
       "      <td>0.000513</td>\n",
       "      <td>0.001315</td>\n",
       "      <td>6</td>\n",
       "      <td>10000</td>\n",
       "      <td>19456</td>\n",
       "    </tr>\n",
       "    <tr>\n",
       "      <th>5476377148107259904</th>\n",
       "      <td>41645652169482274</td>\n",
       "      <td>2.65</td>\n",
       "      <td>0.089587</td>\n",
       "      <td>0.577218</td>\n",
       "      <td>8.9</td>\n",
       "      <td>0.73</td>\n",
       "      <td>0.001214</td>\n",
       "      <td>0.001622</td>\n",
       "      <td>6</td>\n",
       "      <td>10000</td>\n",
       "      <td>19456</td>\n",
       "    </tr>\n",
       "    <tr>\n",
       "      <th>5476377148400861184</th>\n",
       "      <td>41645652169467595</td>\n",
       "      <td>1.65</td>\n",
       "      <td>0.073727</td>\n",
       "      <td>0.585669</td>\n",
       "      <td>8.099</td>\n",
       "      <td>0.241</td>\n",
       "      <td>0.001483</td>\n",
       "      <td>0.002383</td>\n",
       "      <td>6</td>\n",
       "      <td>10000</td>\n",
       "      <td>19456</td>\n",
       "    </tr>\n",
       "    <tr>\n",
       "      <th>5476377148493135872</th>\n",
       "      <td>41645652169482271</td>\n",
       "      <td>1.22</td>\n",
       "      <td>0.375903</td>\n",
       "      <td>0.19297</td>\n",
       "      <td>9.437</td>\n",
       "      <td>1.242</td>\n",
       "      <td>0.000648</td>\n",
       "      <td>0.001826</td>\n",
       "      <td>6</td>\n",
       "      <td>10000</td>\n",
       "      <td>19456</td>\n",
       "    </tr>\n",
       "    <tr>\n",
       "      <th>5476377148547661824</th>\n",
       "      <td>41645652169482275</td>\n",
       "      <td>2.76</td>\n",
       "      <td>0.198219</td>\n",
       "      <td>0.317099</td>\n",
       "      <td>10.299</td>\n",
       "      <td>1.596</td>\n",
       "      <td>0.000787</td>\n",
       "      <td>0.002173</td>\n",
       "      <td>6</td>\n",
       "      <td>10000</td>\n",
       "      <td>19456</td>\n",
       "    </tr>\n",
       "    <tr>\n",
       "      <th>5476377148639936512</th>\n",
       "      <td>41645652169482273</td>\n",
       "      <td>1.52</td>\n",
       "      <td>0.462261</td>\n",
       "      <td>0.110574</td>\n",
       "      <td>8.946</td>\n",
       "      <td>0.592</td>\n",
       "      <td>0.000368</td>\n",
       "      <td>0.002299</td>\n",
       "      <td>6</td>\n",
       "      <td>10000</td>\n",
       "      <td>19456</td>\n",
       "    </tr>\n",
       "    <tr>\n",
       "      <th>5476377149214556160</th>\n",
       "      <td>41645652169482280</td>\n",
       "      <td>1.42</td>\n",
       "      <td>0.154987</td>\n",
       "      <td>0.416722</td>\n",
       "      <td>8.976</td>\n",
       "      <td>0.147</td>\n",
       "      <td>359.998287</td>\n",
       "      <td>0.001825</td>\n",
       "      <td>6</td>\n",
       "      <td>10000</td>\n",
       "      <td>19456</td>\n",
       "    </tr>\n",
       "    <tr>\n",
       "      <th>5476377149667540992</th>\n",
       "      <td>41645652169482282</td>\n",
       "      <td>0.85</td>\n",
       "      <td>0.080868</td>\n",
       "      <td>0.602212</td>\n",
       "      <td>7.782</td>\n",
       "      <td>0.529</td>\n",
       "      <td>359.998082</td>\n",
       "      <td>0.002225</td>\n",
       "      <td>6</td>\n",
       "      <td>10000</td>\n",
       "      <td>19456</td>\n",
       "    </tr>\n",
       "    <tr>\n",
       "      <th>5476377149726261248</th>\n",
       "      <td>41645652169482281</td>\n",
       "      <td>1.88</td>\n",
       "      <td>0.055864</td>\n",
       "      <td>0.651538</td>\n",
       "      <td>10.92</td>\n",
       "      <td>-1.031</td>\n",
       "      <td>359.997707</td>\n",
       "      <td>0.002279</td>\n",
       "      <td>6</td>\n",
       "      <td>10000</td>\n",
       "      <td>19456</td>\n",
       "    </tr>\n",
       "    <tr>\n",
       "      <th>5476377150393155584</th>\n",
       "      <td>41645652169462333</td>\n",
       "      <td>1.34</td>\n",
       "      <td>0.383229</td>\n",
       "      <td>0.183962</td>\n",
       "      <td>9.201</td>\n",
       "      <td>0.452</td>\n",
       "      <td>0.000915</td>\n",
       "      <td>0.003189</td>\n",
       "      <td>6</td>\n",
       "      <td>10000</td>\n",
       "      <td>19456</td>\n",
       "    </tr>\n",
       "  </tbody>\n",
       "</table>\n",
       "</div>"
      ],
      "text/plain": [
       "                             object_id  photoz_best  photoz_conf_best  \\\n",
       "_hipscat_index                                                          \n",
       "4899916391991214080  40576961227021774         2.87          0.138417   \n",
       "4899916392112848896  40576961227021776         2.24          0.056634   \n",
       "4899916393027207168  40576961227002329         1.17          0.470852   \n",
       "4899916393400500224  40576961227002375          0.5          0.137209   \n",
       "4899916393622798336  40576961227021775         2.16          0.044201   \n",
       "4899916393647964160  40576961227002360         0.51          0.203435   \n",
       "5092069979289812992  41645652169462222         1.24          0.367229   \n",
       "5476377147385839616  41645652169482272         1.19          0.200945   \n",
       "5476377148107259904  41645652169482274         2.65          0.089587   \n",
       "5476377148400861184  41645652169467595         1.65          0.073727   \n",
       "5476377148493135872  41645652169482271         1.22          0.375903   \n",
       "5476377148547661824  41645652169482275         2.76          0.198219   \n",
       "5476377148639936512  41645652169482273         1.52          0.462261   \n",
       "5476377149214556160  41645652169482280         1.42          0.154987   \n",
       "5476377149667540992  41645652169482282         0.85          0.080868   \n",
       "5476377149726261248  41645652169482281         1.88          0.055864   \n",
       "5476377150393155584  41645652169462333         1.34          0.383229   \n",
       "\n",
       "                     photoz_risk_best  stellar_mass       sfr          ra  \\\n",
       "_hipscat_index                                                              \n",
       "4899916391991214080          0.458512         9.023     0.645    0.001135   \n",
       "4899916392112848896          0.661668        10.111  0.048999    0.000833   \n",
       "4899916393027207168           0.09377         9.217     0.712  359.997874   \n",
       "4899916393400500224          0.508478         8.827     0.715   359.99847   \n",
       "4899916393622798336          0.707705         9.607     0.528    0.000356   \n",
       "4899916393647964160          0.459397         8.364    -1.138  359.999496   \n",
       "5092069979289812992          0.175684        10.193    -0.209    0.002775   \n",
       "5476377147385839616           0.36849         8.588      1.05    0.000513   \n",
       "5476377148107259904          0.577218           8.9      0.73    0.001214   \n",
       "5476377148400861184          0.585669         8.099     0.241    0.001483   \n",
       "5476377148493135872           0.19297         9.437     1.242    0.000648   \n",
       "5476377148547661824          0.317099        10.299     1.596    0.000787   \n",
       "5476377148639936512          0.110574         8.946     0.592    0.000368   \n",
       "5476377149214556160          0.416722         8.976     0.147  359.998287   \n",
       "5476377149667540992          0.602212         7.782     0.529  359.998082   \n",
       "5476377149726261248          0.651538         10.92    -1.031  359.997707   \n",
       "5476377150393155584          0.183962         9.201     0.452    0.000915   \n",
       "\n",
       "                          dec  Norder    Dir   Npix  \n",
       "_hipscat_index                                       \n",
       "4899916391991214080 -0.002258       1      0     16  \n",
       "4899916392112848896 -0.002092       1      0     16  \n",
       "4899916393027207168 -0.002489       1      0     16  \n",
       "4899916393400500224 -0.001624       1      0     16  \n",
       "4899916393622798336 -0.001719       1      0     16  \n",
       "4899916393647964160 -0.001893       1      0     16  \n",
       "5092069979289812992   0.00093       6  10000  18090  \n",
       "5476377147385839616  0.001315       6  10000  19456  \n",
       "5476377148107259904  0.001622       6  10000  19456  \n",
       "5476377148400861184  0.002383       6  10000  19456  \n",
       "5476377148493135872  0.001826       6  10000  19456  \n",
       "5476377148547661824  0.002173       6  10000  19456  \n",
       "5476377148639936512  0.002299       6  10000  19456  \n",
       "5476377149214556160  0.001825       6  10000  19456  \n",
       "5476377149667540992  0.002225       6  10000  19456  \n",
       "5476377149726261248  0.002279       6  10000  19456  \n",
       "5476377150393155584  0.003189       6  10000  19456  "
      ]
     },
     "execution_count": 13,
     "metadata": {},
     "output_type": "execute_result"
    }
   ],
   "source": [
    "qq"
   ]
  },
  {
   "cell_type": "markdown",
   "id": "8ffcf9d1-dfe7-4d6d-834c-5ef135bf2414",
   "metadata": {
    "tags": []
   },
   "source": [
    "## Read hipscatted QUAIA using LSDB"
   ]
  },
  {
   "cell_type": "code",
   "execution_count": 15,
   "id": "b2a3ba0e-bf7e-4f18-9ade-583d8976fa78",
   "metadata": {},
   "outputs": [],
   "source": [
    "cat2 = lsdb.read_hipscat(\"/ocean/projects/phy210048p/shared/hscpz_quaia_cross/quaia\")"
   ]
  },
  {
   "cell_type": "markdown",
   "id": "c265f49c-9130-4654-8ef1-69a4f29eb139",
   "metadata": {
    "tags": []
   },
   "source": [
    "## Crossmatch HSC_PhotoZ and QUAIA"
   ]
  },
  {
   "cell_type": "code",
   "execution_count": 16,
   "id": "34c444a0-00be-4e44-9b75-5e2fd17acc77",
   "metadata": {},
   "outputs": [
    {
     "name": "stderr",
     "output_type": "stream",
     "text": [
      "/jet/home/edonoso/.conda/envs/lsdb_env/lib/python3.10/site-packages/lsdb/dask/crossmatch_catalog_data.py:108: RuntimeWarning: Right catalog does not have a margin cache. Results may be incomplete and/or inaccurate.\n",
      "  warnings.warn(\n"
     ]
    }
   ],
   "source": [
    "matches = cat.crossmatch(cat2, radius_arcsec=1).compute()"
   ]
  },
  {
   "cell_type": "code",
   "execution_count": 17,
   "id": "58663dea-0c15-4b2e-a83c-160957f3e8bf",
   "metadata": {},
   "outputs": [
    {
     "data": {
      "text/html": [
       "<div>\n",
       "<style scoped>\n",
       "    .dataframe tbody tr th:only-of-type {\n",
       "        vertical-align: middle;\n",
       "    }\n",
       "\n",
       "    .dataframe tbody tr th {\n",
       "        vertical-align: top;\n",
       "    }\n",
       "\n",
       "    .dataframe thead th {\n",
       "        text-align: right;\n",
       "    }\n",
       "</style>\n",
       "<table border=\"1\" class=\"dataframe\">\n",
       "  <thead>\n",
       "    <tr style=\"text-align: right;\">\n",
       "      <th></th>\n",
       "      <th>object_id_demp</th>\n",
       "      <th>photoz_best_demp</th>\n",
       "      <th>photoz_conf_best_demp</th>\n",
       "      <th>photoz_risk_best_demp</th>\n",
       "      <th>stellar_mass_demp</th>\n",
       "      <th>sfr_demp</th>\n",
       "      <th>ra_demp</th>\n",
       "      <th>dec_demp</th>\n",
       "      <th>Norder_demp</th>\n",
       "      <th>Dir_demp</th>\n",
       "      <th>...</th>\n",
       "      <th>mag_w2_vg_quaia</th>\n",
       "      <th>pm_quaia</th>\n",
       "      <th>pmra_quaia</th>\n",
       "      <th>pmdec_quaia</th>\n",
       "      <th>pmra_error_quaia</th>\n",
       "      <th>pmdec_error_quaia</th>\n",
       "      <th>Norder_quaia</th>\n",
       "      <th>Dir_quaia</th>\n",
       "      <th>Npix_quaia</th>\n",
       "      <th>_dist_arcsec</th>\n",
       "    </tr>\n",
       "    <tr>\n",
       "      <th>_hipscat_index</th>\n",
       "      <th></th>\n",
       "      <th></th>\n",
       "      <th></th>\n",
       "      <th></th>\n",
       "      <th></th>\n",
       "      <th></th>\n",
       "      <th></th>\n",
       "      <th></th>\n",
       "      <th></th>\n",
       "      <th></th>\n",
       "      <th></th>\n",
       "      <th></th>\n",
       "      <th></th>\n",
       "      <th></th>\n",
       "      <th></th>\n",
       "      <th></th>\n",
       "      <th></th>\n",
       "      <th></th>\n",
       "      <th></th>\n",
       "      <th></th>\n",
       "      <th></th>\n",
       "    </tr>\n",
       "  </thead>\n",
       "  <tbody>\n",
       "    <tr>\n",
       "      <th>36064350376558592</th>\n",
       "      <td>44956981760361046</td>\n",
       "      <td>0.43</td>\n",
       "      <td>0.344248</td>\n",
       "      <td>0.179562</td>\n",
       "      <td>10.542</td>\n",
       "      <td>0.815</td>\n",
       "      <td>39.239668</td>\n",
       "      <td>4.968537</td>\n",
       "      <td>0</td>\n",
       "      <td>0</td>\n",
       "      <td>...</td>\n",
       "      <td>15.819757</td>\n",
       "      <td>2.015931</td>\n",
       "      <td>1.887793</td>\n",
       "      <td>-0.707259</td>\n",
       "      <td>1.470602</td>\n",
       "      <td>1.578008</td>\n",
       "      <td>0</td>\n",
       "      <td>0</td>\n",
       "      <td>0</td>\n",
       "      <td>0.01987</td>\n",
       "    </tr>\n",
       "    <tr>\n",
       "      <th>36066021957697536</th>\n",
       "      <td>44956981760361658</td>\n",
       "      <td>0.2</td>\n",
       "      <td>0.63032</td>\n",
       "      <td>0.098235</td>\n",
       "      <td>10.486</td>\n",
       "      <td>-0.211</td>\n",
       "      <td>39.24908</td>\n",
       "      <td>5.024899</td>\n",
       "      <td>0</td>\n",
       "      <td>0</td>\n",
       "      <td>...</td>\n",
       "      <td>14.951512</td>\n",
       "      <td>1.509349</td>\n",
       "      <td>-1.308528</td>\n",
       "      <td>-0.752257</td>\n",
       "      <td>0.699502</td>\n",
       "      <td>0.612491</td>\n",
       "      <td>0</td>\n",
       "      <td>0</td>\n",
       "      <td>0</td>\n",
       "      <td>0.033159</td>\n",
       "    </tr>\n",
       "    <tr>\n",
       "      <th>36207684315250688</th>\n",
       "      <td>44957265228203857</td>\n",
       "      <td>0.21</td>\n",
       "      <td>0.451591</td>\n",
       "      <td>0.095838</td>\n",
       "      <td>10.73</td>\n",
       "      <td>0.253</td>\n",
       "      <td>38.780585</td>\n",
       "      <td>5.309515</td>\n",
       "      <td>0</td>\n",
       "      <td>0</td>\n",
       "      <td>...</td>\n",
       "      <td>15.467056</td>\n",
       "      <td>0.299155</td>\n",
       "      <td>-0.246929</td>\n",
       "      <td>-0.168877</td>\n",
       "      <td>0.605865</td>\n",
       "      <td>0.468682</td>\n",
       "      <td>0</td>\n",
       "      <td>0</td>\n",
       "      <td>0</td>\n",
       "      <td>0.01283</td>\n",
       "    </tr>\n",
       "    <tr>\n",
       "      <th>1152926402048163840</th>\n",
       "      <td>42045603819046867</td>\n",
       "      <td>2.69</td>\n",
       "      <td>0.404022</td>\n",
       "      <td>0.19527</td>\n",
       "      <td>9.15</td>\n",
       "      <td>1.94</td>\n",
       "      <td>135.116993</td>\n",
       "      <td>0.118346</td>\n",
       "      <td>6</td>\n",
       "      <td>0</td>\n",
       "      <td>...</td>\n",
       "      <td>16.450619</td>\n",
       "      <td>0.472389</td>\n",
       "      <td>-0.124633</td>\n",
       "      <td>-0.455651</td>\n",
       "      <td>0.665678</td>\n",
       "      <td>0.410765</td>\n",
       "      <td>0</td>\n",
       "      <td>0</td>\n",
       "      <td>1</td>\n",
       "      <td>0.006385</td>\n",
       "    </tr>\n",
       "    <tr>\n",
       "      <th>1152929798868172800</th>\n",
       "      <td>42045741258005110</td>\n",
       "      <td>0.84</td>\n",
       "      <td>0.33858</td>\n",
       "      <td>0.3856</td>\n",
       "      <td>10.523</td>\n",
       "      <td>0.965</td>\n",
       "      <td>135.059348</td>\n",
       "      <td>0.178171</td>\n",
       "      <td>6</td>\n",
       "      <td>0</td>\n",
       "      <td>...</td>\n",
       "      <td>14.603481</td>\n",
       "      <td>1.603647</td>\n",
       "      <td>1.229045</td>\n",
       "      <td>1.030113</td>\n",
       "      <td>0.91108</td>\n",
       "      <td>0.46375</td>\n",
       "      <td>0</td>\n",
       "      <td>0</td>\n",
       "      <td>1</td>\n",
       "      <td>0.008416</td>\n",
       "    </tr>\n",
       "    <tr>\n",
       "      <th>...</th>\n",
       "      <td>...</td>\n",
       "      <td>...</td>\n",
       "      <td>...</td>\n",
       "      <td>...</td>\n",
       "      <td>...</td>\n",
       "      <td>...</td>\n",
       "      <td>...</td>\n",
       "      <td>...</td>\n",
       "      <td>...</td>\n",
       "      <td>...</td>\n",
       "      <td>...</td>\n",
       "      <td>...</td>\n",
       "      <td>...</td>\n",
       "      <td>...</td>\n",
       "      <td>...</td>\n",
       "      <td>...</td>\n",
       "      <td>...</td>\n",
       "      <td>...</td>\n",
       "      <td>...</td>\n",
       "      <td>...</td>\n",
       "      <td>...</td>\n",
       "    </tr>\n",
       "    <tr>\n",
       "      <th>12682104142286553088</th>\n",
       "      <td>41245730584680996</td>\n",
       "      <td>1.94</td>\n",
       "      <td>0.792152</td>\n",
       "      <td>0.044443</td>\n",
       "      <td>9.171</td>\n",
       "      <td>1.2</td>\n",
       "      <td>224.763577</td>\n",
       "      <td>-0.382351</td>\n",
       "      <td>6</td>\n",
       "      <td>40000</td>\n",
       "      <td>...</td>\n",
       "      <td>15.373639</td>\n",
       "      <td>0.140871</td>\n",
       "      <td>-0.06637</td>\n",
       "      <td>-0.124256</td>\n",
       "      <td>0.311057</td>\n",
       "      <td>0.236381</td>\n",
       "      <td>0</td>\n",
       "      <td>0</td>\n",
       "      <td>10</td>\n",
       "      <td>0.010583</td>\n",
       "    </tr>\n",
       "    <tr>\n",
       "      <th>12682113988297752576</th>\n",
       "      <td>41245734879644826</td>\n",
       "      <td>0.46</td>\n",
       "      <td>0.478186</td>\n",
       "      <td>0.101867</td>\n",
       "      <td>9.365</td>\n",
       "      <td>-2.368</td>\n",
       "      <td>224.749813</td>\n",
       "      <td>-0.251209</td>\n",
       "      <td>6</td>\n",
       "      <td>40000</td>\n",
       "      <td>...</td>\n",
       "      <td>12.625408</td>\n",
       "      <td>0.693401</td>\n",
       "      <td>-0.348245</td>\n",
       "      <td>0.599609</td>\n",
       "      <td>0.32136</td>\n",
       "      <td>0.278343</td>\n",
       "      <td>0</td>\n",
       "      <td>0</td>\n",
       "      <td>10</td>\n",
       "      <td>0.008578</td>\n",
       "    </tr>\n",
       "    <tr>\n",
       "      <th>12682117123342860288</th>\n",
       "      <td>41245734879646287</td>\n",
       "      <td>1.85</td>\n",
       "      <td>0.172747</td>\n",
       "      <td>0.336619</td>\n",
       "      <td>9.535</td>\n",
       "      <td>0.52</td>\n",
       "      <td>224.816963</td>\n",
       "      <td>-0.2256</td>\n",
       "      <td>6</td>\n",
       "      <td>40000</td>\n",
       "      <td>...</td>\n",
       "      <td>14.830626</td>\n",
       "      <td>0.330143</td>\n",
       "      <td>0.110725</td>\n",
       "      <td>-0.311021</td>\n",
       "      <td>0.287177</td>\n",
       "      <td>0.257211</td>\n",
       "      <td>0</td>\n",
       "      <td>0</td>\n",
       "      <td>10</td>\n",
       "      <td>0.010084</td>\n",
       "    </tr>\n",
       "    <tr>\n",
       "      <th>12682120778225811456</th>\n",
       "      <td>41245597440694526</td>\n",
       "      <td>0.28</td>\n",
       "      <td>0.151509</td>\n",
       "      <td>0.56147</td>\n",
       "      <td>9.904</td>\n",
       "      <td>0.214</td>\n",
       "      <td>225.015078</td>\n",
       "      <td>-0.221266</td>\n",
       "      <td>6</td>\n",
       "      <td>40000</td>\n",
       "      <td>...</td>\n",
       "      <td>14.647839</td>\n",
       "      <td>0.171455</td>\n",
       "      <td>0.160288</td>\n",
       "      <td>-0.060864</td>\n",
       "      <td>0.354488</td>\n",
       "      <td>0.324295</td>\n",
       "      <td>0</td>\n",
       "      <td>0</td>\n",
       "      <td>10</td>\n",
       "      <td>0.008903</td>\n",
       "    </tr>\n",
       "    <tr>\n",
       "      <th>12682121144535351296</th>\n",
       "      <td>41245597440695832</td>\n",
       "      <td>1.33</td>\n",
       "      <td>0.177169</td>\n",
       "      <td>0.410119</td>\n",
       "      <td>10.106</td>\n",
       "      <td>-0.289</td>\n",
       "      <td>225.043405</td>\n",
       "      <td>-0.191767</td>\n",
       "      <td>6</td>\n",
       "      <td>40000</td>\n",
       "      <td>...</td>\n",
       "      <td>14.876616</td>\n",
       "      <td>0.570017</td>\n",
       "      <td>-0.04388</td>\n",
       "      <td>0.568326</td>\n",
       "      <td>0.661472</td>\n",
       "      <td>0.607792</td>\n",
       "      <td>0</td>\n",
       "      <td>0</td>\n",
       "      <td>10</td>\n",
       "      <td>0.008694</td>\n",
       "    </tr>\n",
       "  </tbody>\n",
       "</table>\n",
       "<p>68265 rows × 33 columns</p>\n",
       "</div>"
      ],
      "text/plain": [
       "                         object_id_demp  photoz_best_demp  \\\n",
       "_hipscat_index                                              \n",
       "36064350376558592     44956981760361046              0.43   \n",
       "36066021957697536     44956981760361658               0.2   \n",
       "36207684315250688     44957265228203857              0.21   \n",
       "1152926402048163840   42045603819046867              2.69   \n",
       "1152929798868172800   42045741258005110              0.84   \n",
       "...                                 ...               ...   \n",
       "12682104142286553088  41245730584680996              1.94   \n",
       "12682113988297752576  41245734879644826              0.46   \n",
       "12682117123342860288  41245734879646287              1.85   \n",
       "12682120778225811456  41245597440694526              0.28   \n",
       "12682121144535351296  41245597440695832              1.33   \n",
       "\n",
       "                      photoz_conf_best_demp  photoz_risk_best_demp  \\\n",
       "_hipscat_index                                                       \n",
       "36064350376558592                  0.344248               0.179562   \n",
       "36066021957697536                   0.63032               0.098235   \n",
       "36207684315250688                  0.451591               0.095838   \n",
       "1152926402048163840                0.404022                0.19527   \n",
       "1152929798868172800                 0.33858                 0.3856   \n",
       "...                                     ...                    ...   \n",
       "12682104142286553088               0.792152               0.044443   \n",
       "12682113988297752576               0.478186               0.101867   \n",
       "12682117123342860288               0.172747               0.336619   \n",
       "12682120778225811456               0.151509                0.56147   \n",
       "12682121144535351296               0.177169               0.410119   \n",
       "\n",
       "                      stellar_mass_demp  sfr_demp     ra_demp  dec_demp  \\\n",
       "_hipscat_index                                                            \n",
       "36064350376558592                10.542     0.815   39.239668  4.968537   \n",
       "36066021957697536                10.486    -0.211    39.24908  5.024899   \n",
       "36207684315250688                 10.73     0.253   38.780585  5.309515   \n",
       "1152926402048163840                9.15      1.94  135.116993  0.118346   \n",
       "1152929798868172800              10.523     0.965  135.059348  0.178171   \n",
       "...                                 ...       ...         ...       ...   \n",
       "12682104142286553088              9.171       1.2  224.763577 -0.382351   \n",
       "12682113988297752576              9.365    -2.368  224.749813 -0.251209   \n",
       "12682117123342860288              9.535      0.52  224.816963   -0.2256   \n",
       "12682120778225811456              9.904     0.214  225.015078 -0.221266   \n",
       "12682121144535351296             10.106    -0.289  225.043405 -0.191767   \n",
       "\n",
       "                      Norder_demp  Dir_demp  ...  mag_w2_vg_quaia  pm_quaia  \\\n",
       "_hipscat_index                               ...                              \n",
       "36064350376558592               0         0  ...        15.819757  2.015931   \n",
       "36066021957697536               0         0  ...        14.951512  1.509349   \n",
       "36207684315250688               0         0  ...        15.467056  0.299155   \n",
       "1152926402048163840             6         0  ...        16.450619  0.472389   \n",
       "1152929798868172800             6         0  ...        14.603481  1.603647   \n",
       "...                           ...       ...  ...              ...       ...   \n",
       "12682104142286553088            6     40000  ...        15.373639  0.140871   \n",
       "12682113988297752576            6     40000  ...        12.625408  0.693401   \n",
       "12682117123342860288            6     40000  ...        14.830626  0.330143   \n",
       "12682120778225811456            6     40000  ...        14.647839  0.171455   \n",
       "12682121144535351296            6     40000  ...        14.876616  0.570017   \n",
       "\n",
       "                     pmra_quaia  pmdec_quaia  pmra_error_quaia  \\\n",
       "_hipscat_index                                                   \n",
       "36064350376558592      1.887793    -0.707259          1.470602   \n",
       "36066021957697536     -1.308528    -0.752257          0.699502   \n",
       "36207684315250688     -0.246929    -0.168877          0.605865   \n",
       "1152926402048163840   -0.124633    -0.455651          0.665678   \n",
       "1152929798868172800    1.229045     1.030113           0.91108   \n",
       "...                         ...          ...               ...   \n",
       "12682104142286553088   -0.06637    -0.124256          0.311057   \n",
       "12682113988297752576  -0.348245     0.599609           0.32136   \n",
       "12682117123342860288   0.110725    -0.311021          0.287177   \n",
       "12682120778225811456   0.160288    -0.060864          0.354488   \n",
       "12682121144535351296   -0.04388     0.568326          0.661472   \n",
       "\n",
       "                      pmdec_error_quaia  Norder_quaia  Dir_quaia  Npix_quaia  \\\n",
       "_hipscat_index                                                                 \n",
       "36064350376558592              1.578008             0          0           0   \n",
       "36066021957697536              0.612491             0          0           0   \n",
       "36207684315250688              0.468682             0          0           0   \n",
       "1152926402048163840            0.410765             0          0           1   \n",
       "1152929798868172800             0.46375             0          0           1   \n",
       "...                                 ...           ...        ...         ...   \n",
       "12682104142286553088           0.236381             0          0          10   \n",
       "12682113988297752576           0.278343             0          0          10   \n",
       "12682117123342860288           0.257211             0          0          10   \n",
       "12682120778225811456           0.324295             0          0          10   \n",
       "12682121144535351296           0.607792             0          0          10   \n",
       "\n",
       "                      _dist_arcsec  \n",
       "_hipscat_index                      \n",
       "36064350376558592          0.01987  \n",
       "36066021957697536         0.033159  \n",
       "36207684315250688          0.01283  \n",
       "1152926402048163840       0.006385  \n",
       "1152929798868172800       0.008416  \n",
       "...                            ...  \n",
       "12682104142286553088      0.010583  \n",
       "12682113988297752576      0.008578  \n",
       "12682117123342860288      0.010084  \n",
       "12682120778225811456      0.008903  \n",
       "12682121144535351296      0.008694  \n",
       "\n",
       "[68265 rows x 33 columns]"
      ]
     },
     "execution_count": 17,
     "metadata": {},
     "output_type": "execute_result"
    }
   ],
   "source": [
    "matches"
   ]
  },
  {
   "cell_type": "code",
   "execution_count": 18,
   "id": "292eab3f-e094-4287-85ec-2a6d62adcb7c",
   "metadata": {},
   "outputs": [],
   "source": [
    "# Save matches to disk\n",
    "matches.to_csv('/ocean/projects/phy210048p/shared/hscpz_quaia_cross/matches.csv')"
   ]
  },
  {
   "cell_type": "markdown",
   "id": "8344ca6c-9bf2-4256-b34f-a6a8580c886a",
   "metadata": {
    "tags": []
   },
   "source": [
    "## Explore matched data"
   ]
  },
  {
   "cell_type": "code",
   "execution_count": 19,
   "id": "000e4f91-f09f-4c05-9fc2-a28217e0bec5",
   "metadata": {},
   "outputs": [],
   "source": [
    "risklim = 1.0  # we should lower this later\n",
    "matched_cleanrisk = matches[matches['photoz_risk_best_demp']<risklim]"
   ]
  },
  {
   "cell_type": "code",
   "execution_count": 20,
   "id": "b6574675-abdd-4e31-afc6-f63c38d96882",
   "metadata": {},
   "outputs": [
    {
     "data": {
      "text/plain": [
       "<matplotlib.colorbar.Colorbar at 0x149cb9329a20>"
      ]
     },
     "execution_count": 20,
     "metadata": {},
     "output_type": "execute_result"
    },
    {
     "data": {
      "image/png": "[encoded data removed]",
      "text/plain": [
       "<Figure size 640x480 with 2 Axes>"
      ]
     },
     "metadata": {},
     "output_type": "display_data"
    }
   ],
   "source": [
    "pp = plt.scatter(matched_cleanrisk['photoz_best_demp'], matched_cleanrisk['redshift_quaia_quaia'], s=0.5, alpha=0.3, c=matched_cleanrisk['photoz_risk_best_demp'], cmap='viridis')\n",
    "plt.xlabel('photoz_hsc'); plt.ylabel('photoz_quaia');\n",
    "plt.colorbar(pp)"
   ]
  },
  {
   "cell_type": "markdown",
   "id": "c19e9ef1-9bdc-4c3f-87fe-aa4b29c06f0c",
   "metadata": {},
   "source": [
    "**The large plume extending upwards at photoz_hsc~0.1 is due to sources of point morphology that have very few HSC bands available (eg. only g-magnitudes) and therefore very odd redshifts. This means the galaxy catalog fed to corrigi should be initially filtered at the very least by 15 < ugrizy_mag < 30 and 0.001<photoz_HSC<6 and risk<0.5 and [further cuts??]**"
   ]
  },
  {
   "cell_type": "code",
   "execution_count": null,
   "id": "1bd0a6d0-4d7a-48cb-a9ac-b77fdd513719",
   "metadata": {},
   "outputs": [],
   "source": []
  }
 ],
 "metadata": {
  "kernelspec": {
   "display_name": "lsdb_env",
   "language": "python",
   "name": "lsdb_env"
  },
  "language_info": {
   "codemirror_mode": {
    "name": "ipython",
    "version": 3
   },
   "file_extension": ".py",
   "mimetype": "text/x-python",
   "name": "python",
   "nbconvert_exporter": "python",
   "pygments_lexer": "ipython3",
   "version": "3.10.14"
  }
 },
 "nbformat": 4,
 "nbformat_minor": 5
}
